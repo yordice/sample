{
  "nbformat": 4,
  "nbformat_minor": 0,
  "metadata": {
    "colab": {
      "provenance": [],
      "gpuType": "T4",
      "mount_file_id": "1whwGh8Q0B7rIO0yb-Ckk4KUi6lk5GV7G",
      "authorship_tag": "ABX9TyO0RYpesA8IExmjUTlRnPtx",
      "include_colab_link": true
    },
    "kernelspec": {
      "name": "python3",
      "display_name": "Python 3"
    },
    "language_info": {
      "name": "python"
    },
    "accelerator": "GPU"
  },
  "cells": [
    {
      "cell_type": "markdown",
      "metadata": {
        "id": "view-in-github",
        "colab_type": "text"
      },
      "source": [
        "<a href=\"https://colab.research.google.com/github/yordice/sample/blob/main/firstnotebook.ipynb\" target=\"_parent\"><img src=\"https://colab.research.google.com/assets/colab-badge.svg\" alt=\"Open In Colab\"/></a>"
      ]
    },
    {
      "cell_type": "code",
      "execution_count": null,
      "metadata": {
        "colab": {
          "base_uri": "https://localhost:8080/"
        },
        "id": "6HzSPXRzs43E",
        "outputId": "2fc2b6a6-4a48-48dc-f15b-b6c6e63f6774"
      },
      "outputs": [
        {
          "output_type": "stream",
          "name": "stdout",
          "text": [
            "Hello, World!\n"
          ]
        }
      ],
      "source": [
        "print(\"Hello, World!\")"
      ]
    },
    {
      "cell_type": "code",
      "source": [
        "print(\"Hello, World!!\")\n",
        "print(\"Hello, Python!!\")"
      ],
      "metadata": {
        "colab": {
          "base_uri": "https://localhost:8080/"
        },
        "id": "8aScvc7AtyuI",
        "outputId": "0cedd3ae-2fc4-47ac-ab54-bd6cf5a99cb2"
      },
      "execution_count": null,
      "outputs": [
        {
          "output_type": "stream",
          "name": "stdout",
          "text": [
            "Hello, World!!\n",
            "Hello, Python!!\n"
          ]
        }
      ]
    },
    {
      "cell_type": "markdown",
      "source": [
        "# Heading 1\n",
        "You can write sentences in Markdown notation\n",
        "## Heading 2\n",
        "\n",
        "**strong**\n",
        "\n",
        "You can also write formulas\n",
        "$$\n",
        "y = 2x+1\n",
        "$$\n",
        "When writing Python code, use code blocks.\n",
        "```\n",
        "python\n",
        "print(\"Hello,  World!!\")\n",
        "```\n",
        "- Unordered Lists\n",
        "- Unordered Lists\n",
        "  - Unordered Lists\n",
        "\n",
        ">blockquotes\n"
      ],
      "metadata": {
        "id": "JMqzCgaJuKk9"
      }
    },
    {
      "cell_type": "code",
      "source": [
        "num = 3 + 5"
      ],
      "metadata": {
        "id": "d7i1sdlnvh03"
      },
      "execution_count": null,
      "outputs": []
    },
    {
      "cell_type": "code",
      "source": [
        "num"
      ],
      "metadata": {
        "colab": {
          "base_uri": "https://localhost:8080/"
        },
        "id": "ZfshAE5avl7X",
        "outputId": "86e70c72-13b8-41eb-d8b0-0aa7e41b3ef0"
      },
      "execution_count": null,
      "outputs": [
        {
          "output_type": "execute_result",
          "data": {
            "text/plain": [
              "8"
            ]
          },
          "metadata": {},
          "execution_count": 2
        }
      ]
    }
  ]
}